{
 "cells": [
  {
   "cell_type": "markdown",
   "metadata": {},
   "source": [
    "# Callbacks"
   ]
  },
  {
   "cell_type": "code",
   "execution_count": null,
   "metadata": {},
   "outputs": [
    {
     "name": "stdout",
     "output_type": "stream",
     "text": [
      "Installing packages:\n",
      "\t.package(path: \"/home/ubuntu/fastai_docs/dev_swift/FastaiNotebook_03_minibatch_training\")\n",
      "\t\tFastaiNotebook_03_minibatch_training\n",
      "With SwiftPM flags: []\n",
      "Working in: /tmp/tmp_7st5qzj\n",
      "Fetching https://github.com/mxcl/Path.swift\n",
      "Fetching https://github.com/JustHTTP/Just\n",
      "Completed resolution in 2.07s\n",
      "Cloning https://github.com/mxcl/Path.swift\n",
      "Resolving https://github.com/mxcl/Path.swift at 0.16.2\n",
      "Cloning https://github.com/JustHTTP/Just\n",
      "Resolving https://github.com/JustHTTP/Just at 0.7.1\n",
      "Compile Swift Module 'Just' (1 sources)\n",
      "Compile Swift Module 'Path' (9 sources)\n",
      "Compile Swift Module 'FastaiNotebook_03_minibatch_training' (5 sources)\n",
      "Compile Swift Module 'jupyterInstalledPackages' (1 sources)\n",
      "Linking ./.build/x86_64-unknown-linux/debug/libjupyterInstalledPackages.so\n",
      "Initializing Swift...\n",
      "Loading library...\n",
      "Installation complete!\n"
     ]
    }
   ],
   "source": [
    "%install '.package(path: \"$cwd/FastaiNotebook_03_minibatch_training\")' FastaiNotebook_03_minibatch_training"
   ]
  },
  {
   "cell_type": "markdown",
   "metadata": {},
   "source": [
    "## Load data"
   ]
  },
  {
   "cell_type": "code",
   "execution_count": null,
   "metadata": {},
   "outputs": [],
   "source": [
    "import FastaiNotebook_03_minibatch_training"
   ]
  },
  {
   "cell_type": "code",
   "execution_count": null,
   "metadata": {},
   "outputs": [],
   "source": [
    "// export\n",
    "import Path\n",
    "import TensorFlow"
   ]
  },
  {
   "cell_type": "code",
   "execution_count": null,
   "metadata": {},
   "outputs": [],
   "source": [
    "var (xTrain,yTrain,xValid,yValid) = loadMNIST(path: mnistPath, flat: true)"
   ]
  },
  {
   "cell_type": "code",
   "execution_count": null,
   "metadata": {},
   "outputs": [
    {
     "name": "stdout",
     "output_type": "stream",
     "text": [
      "60000 784 10\r\n"
     ]
    }
   ],
   "source": [
    "let (n,m) = (Int(xTrain.shape[0]),Int(xTrain.shape[1]))\n",
    "let c = yTrain.max()+1\n",
    "print(n,m,c)"
   ]
  },
  {
   "cell_type": "markdown",
   "metadata": {},
   "source": [
    "Those can't be used to define a model cause they're not Ints though..."
   ]
  },
  {
   "cell_type": "code",
   "execution_count": null,
   "metadata": {},
   "outputs": [],
   "source": [
    "let (n,m) = (60000,784)\n",
    "let c = 10\n",
    "let nHid = 50"
   ]
  },
  {
   "cell_type": "code",
   "execution_count": null,
   "metadata": {},
   "outputs": [],
   "source": [
    "// export\n",
    "public struct BasicModel: Layer {\n",
    "    public var layer1: Dense<Float>\n",
    "    public var layer2: Dense<Float>\n",
    "    \n",
    "    public init(nIn: Int, nHid: Int, nOut: Int){\n",
    "        layer1 = Dense(inputSize: nIn, outputSize: nHid, activation: relu)\n",
    "        layer2 = Dense(inputSize: nHid, outputSize: nOut)\n",
    "    }\n",
    "    \n",
    "    @differentiable\n",
    "    public func applied(to input: Tensor<Float>, in context: Context) -> Tensor<Float> {\n",
    "        return input.sequenced(in: context, through: layer1, layer2)\n",
    "    }\n",
    "}"
   ]
  },
  {
   "cell_type": "code",
   "execution_count": null,
   "metadata": {},
   "outputs": [],
   "source": [
    "var model = BasicModel(nIn: m, nHid: nHid, nOut: c)"
   ]
  },
  {
   "cell_type": "code",
   "execution_count": null,
   "metadata": {},
   "outputs": [],
   "source": [
    "// export\n",
    "public struct DataBunch<Element> where Element: TensorGroup{\n",
    "    public var train: Dataset<Element>\n",
    "    public var valid: Dataset<Element>\n",
    "    \n",
    "    public init(train: Dataset<Element>, valid: Dataset<Element>) {\n",
    "        self.train = train\n",
    "        self.valid = valid\n",
    "    }\n",
    "}"
   ]
  },
  {
   "cell_type": "code",
   "execution_count": null,
   "metadata": {},
   "outputs": [],
   "source": [
    "//export\n",
    "// TODO: When TF-421 is fixed, switch this back to Int32 labels.\n",
    "public func mnistDataBunch(path: Path = mnistPath, flat: Bool = false, bs: Int = 64\n",
    "                          ) -> DataBunch<DataBatch<Tensor<Float>, Tensor<Int32>>>{\n",
    "    let (xTrain,yTrain,xValid,yValid) = loadMNIST(path: path, flat: flat)\n",
    "    //let yTrain1: Tensor<Float> = Raw.oneHot(indices: yTrain, depth: Tensor(10), onValue: Tensor(1.0), offValue: Tensor(0.0))\n",
    "    //let yValid1: Tensor<Float> = Raw.oneHot(indices: yValid, depth: Tensor(10), onValue: Tensor(1.0), offValue: Tensor(0.0))\n",
    "    return DataBunch(train: Dataset(elements:DataBatch(xb:xTrain, yb:yTrain)).batched(Int64(bs)), \n",
    "                     valid: Dataset(elements:DataBatch(xb:xValid, yb:yValid)).batched(Int64(bs)))\n",
    "}"
   ]
  },
  {
   "cell_type": "code",
   "execution_count": null,
   "metadata": {},
   "outputs": [],
   "source": [
    "let data = mnistDataBunch(flat: true)"
   ]
  },
  {
   "cell_type": "markdown",
   "metadata": {},
   "source": [
    "## Learner"
   ]
  },
  {
   "cell_type": "code",
   "execution_count": null,
   "metadata": {},
   "outputs": [],
   "source": [
    "// export\n",
    "public enum LearnerAction: Error {\n",
    "    case skipEpoch\n",
    "    case skipBatch\n",
    "    case stop\n",
    "}"
   ]
  },
  {
   "cell_type": "markdown",
   "metadata": {},
   "source": [
    "Basic class"
   ]
  },
  {
   "cell_type": "code",
   "execution_count": null,
   "metadata": {},
   "outputs": [],
   "source": [
    "// export\n",
    "/// A model learner, responsible for initializing and training a model on a given dataset.\n",
    "// NOTE: When TF-421 is fixed, make `Label` not constrained to `Differentiable`.\n",
    "public final class Learner<Label: TensorGroup,\n",
    "                           Opt: TensorFlow.Optimizer & AnyObject>\n",
    "    where Opt.Scalar: Differentiable,\n",
    "          // Constrain model input to Tensor<Float>, to work around\n",
    "          // https://forums.fast.ai/t/fix-ad-crash-in-learner/42970.\n",
    "          Opt.Model.Input == Tensor<Float>\n",
    "{\n",
    "    // Common type aliases.\n",
    "    public typealias Input = Model.Input\n",
    "    public typealias Data = DataBunch<DataBatch<Input, Label>>\n",
    "    public typealias Loss = Tensor<Float>\n",
    "    public typealias Optimizer = Opt\n",
    "    public typealias Model = Optimizer.Model\n",
    "    public typealias Variables = Model.AllDifferentiableVariables\n",
    "    public typealias EventHandler = (Learner) throws -> Void\n",
    "    \n",
    "    /// A wrapper class to hold the loss function, to work around\n",
    "    // https://forums.fast.ai/t/fix-ad-crash-in-learner/42970.\n",
    "    public final class LossFunction {\n",
    "        // NOTE: When TF-421 is fixed, replace with:\n",
    "        public typealias F = @differentiable (Model.Output, @nondiff Label) -> Loss\n",
    "        //public typealias F = @differentiable (Model.Output, Label) -> Loss\n",
    "        public var f: F\n",
    "        init(_ f: @escaping F) { self.f = f }\n",
    "    }\n",
    "    \n",
    "    /// The dataset on which the model will be trained.\n",
    "    public var data: Data\n",
    "    /// The optimizer used for updating model parameters along gradient vectors.\n",
    "    public var optimizer: Optimizer\n",
    "    /// The function that computes a loss value when given a prediction and a label.\n",
    "    public var lossFunction: LossFunction\n",
    "    /// The model being trained.\n",
    "    public var model: Model\n",
    "    \n",
    "    //Is there a better way to initialize those to not make them Optionals?\n",
    "    public var currentInput: Input? = nil\n",
    "    public var currentTarget: Label? = nil\n",
    "    public var currentOutput: Model.Output? = nil\n",
    "    \n",
    "    /// The number of total epochs.\n",
    "    public private(set) var epochCount: Int = .zero\n",
    "    /// The current epoch.\n",
    "    public private(set) var currentEpoch: Int = .zero\n",
    "    /// The current gradient.\n",
    "    public private(set) var currentGradient: Model.CotangentVector = .zero\n",
    "    /// The current loss.\n",
    "    public private(set) var currentLoss: Loss = .zero\n",
    "    /// In training mode or not\n",
    "    public private(set) var inTrain: Bool = false\n",
    "    /// The current epoch + iteration, float between 0.0 and epochCount\n",
    "    public private(set) var pctEpochs: Float = 0.0\n",
    "    /// The current iteration\n",
    "    public private(set) var currentIter: Int = 0\n",
    "    /// The number of iterations in the current dataset\n",
    "    public private(set) var iterCount: Int = 0\n",
    "    \n",
    "    open class Delegate {\n",
    "        open var order: Int { return 0 }\n",
    "        public init () {}\n",
    "        \n",
    "        open func trainingWillStart(learner: Learner) throws {}\n",
    "        /// The completion of model training.\n",
    "        open func trainingDidFinish(learner: Learner) throws {}\n",
    "        /// A closure which will be called upon the start of an epoch.\n",
    "        open func epochWillStart(learner: Learner) throws {}\n",
    "        /// A closure which will be called upon the completion of an epoch.\n",
    "        open func epochDidFinish(learner: Learner) throws {}\n",
    "        /// A closure which will be called upon the start of model validation.\n",
    "        open func validationWillStart(learner: Learner) throws {}\n",
    "        /// A closure which will be called upon the start of training on a batch.\n",
    "        open func batchWillStart(learner: Learner) throws {}\n",
    "        /// A closure which will be called upon the completion of training on a batch.\n",
    "        open func batchDidFinish(learner: Learner) throws {}\n",
    "        /// A closure which will be called when a new gradient has been computed.\n",
    "        open func learnerDidProduceNewGradient(learner: Learner) throws {}\n",
    "        /// A closure which will be called upon the completion of an optimizer update.\n",
    "        open func optimizerDidUpdate(learner: Learner) throws {}\n",
    "        \n",
    "        /// TODO: learnerDidProduceNewOutput and learnerDidProduceNewLoss need to\n",
    "        /// be differentiable once we can have the loss function inside the Learner\n",
    "    }\n",
    "    \n",
    "    public var delegates: [Delegate] = [] {\n",
    "        didSet { delegates.sort { $0.order < $1.order } }\n",
    "    }\n",
    "    \n",
    "    /// The context used for layer applications.\n",
    "    public private(set) var context = Context(learningPhase: .training)\n",
    "\n",
    "    /// Creates a learner.\n",
    "    ///\n",
    "    /// - Parameters:\n",
    "    ///   - dataset: The dataset which will be trained on.\n",
    "    ///   - lossFunction: The loss function.\n",
    "    ///   - optimizer: The optimizer used for updating model parameters along\n",
    "    ///     gradient vectors.\n",
    "    ///   - modelInitializer: The closure that produces an model to be trained.\n",
    "    ///\n",
    "    public init(data: Data,\n",
    "                lossFunction: @escaping LossFunction.F,\n",
    "                optimizer: Optimizer,\n",
    "                initializingWith modelInitializer: () -> Model) {\n",
    "        self.data = data\n",
    "        self.optimizer = optimizer\n",
    "        self.lossFunction = LossFunction(lossFunction)\n",
    "        self.model = modelInitializer()\n",
    "    }\n",
    "}"
   ]
  },
  {
   "cell_type": "markdown",
   "metadata": {},
   "source": [
    "Then let's write the parts of the training loop:"
   ]
  },
  {
   "cell_type": "code",
   "execution_count": null,
   "metadata": {},
   "outputs": [],
   "source": [
    "// export\n",
    "extension Learner {\n",
    "    /// Trains the model on the given batch.\n",
    "    ///\n",
    "    /// - Parameter batch: The batch of input data and labels to be trained on.\n",
    "    ///\n",
    "    private func train(onBatch batch: DataBatch<Input, Label>) throws {\n",
    "        let (xb,yb) = (currentInput!,currentTarget!)\n",
    "        (currentLoss, (currentGradient, _)) = model.valueWithGradient(at: yb) { (model, yb) -> Loss in \n",
    "            let y = model.applied(to: xb, in: context)\n",
    "            currentOutput = y\n",
    "            return lossFunction.f(y, yb)\n",
    "        }\n",
    "        try delegates.forEach { try $0.learnerDidProduceNewGradient(learner: self) }\n",
    "        optimizer.update(&model.allDifferentiableVariables, along: self.currentGradient)\n",
    "    }\n",
    "    \n",
    "    /// Performs a training epoch on a Dataset.\n",
    "    private func train(onDataset ds: Dataset<DataBatch<Input, Label>>) throws {\n",
    "        iterCount = ds.count(where: {_ in true})\n",
    "        for batch in ds {\n",
    "            (currentInput, currentTarget) = (batch.xb, batch.yb)\n",
    "            try delegates.forEach { try $0.batchWillStart(learner: self) }\n",
    "            do { try train(onBatch: batch) }\n",
    "            catch LearnerAction.skipBatch {}\n",
    "            try delegates.forEach { try $0.batchDidFinish(learner: self) }\n",
    "        }\n",
    "    }\n",
    "}"
   ]
  },
  {
   "cell_type": "markdown",
   "metadata": {},
   "source": [
    "And the whole fit function."
   ]
  },
  {
   "cell_type": "code",
   "execution_count": null,
   "metadata": {},
   "outputs": [],
   "source": [
    "// export\n",
    "extension Learner {\n",
    "    /// Starts fitting.\n",
    "    /// - Parameter epochCount: The number of epochs that will be run.\n",
    "    public func fit(_ epochCount: Int) throws {\n",
    "        self.epochCount = epochCount\n",
    "        do {\n",
    "            try delegates.forEach { try $0.trainingWillStart(learner: self) }\n",
    "            for i in 0..<epochCount {\n",
    "                self.currentEpoch = i\n",
    "                do {\n",
    "                    try delegates.forEach { try $0.epochWillStart(learner: self) }\n",
    "                    do { try train(onDataset: data.train) }\n",
    "                    try delegates.forEach { try $0.validationWillStart(learner: self) }\n",
    "                    do { try train(onDataset: data.valid) }\n",
    "                    \n",
    "                } catch LearnerAction.skipEpoch {}\n",
    "                try delegates.forEach { try $0.epochDidFinish(learner: self) }\n",
    "            }\n",
    "        } catch LearnerAction.stop {}\n",
    "        try delegates.forEach { try $0.trainingDidFinish(learner: self) }\n",
    "    }\n",
    "}"
   ]
  },
  {
   "cell_type": "markdown",
   "metadata": {},
   "source": [
    "### Test"
   ]
  },
  {
   "cell_type": "code",
   "execution_count": null,
   "metadata": {},
   "outputs": [],
   "source": [
    "let opt = SGD<BasicModel, Float>(learningRate: 1e-2)"
   ]
  },
  {
   "cell_type": "code",
   "execution_count": null,
   "metadata": {},
   "outputs": [],
   "source": [
    "func modelInit() -> BasicModel {return BasicModel(nIn: m, nHid: nHid, nOut: c)}"
   ]
  },
  {
   "cell_type": "code",
   "execution_count": null,
   "metadata": {},
   "outputs": [],
   "source": [
    "// TODO: When TF-421 is fixed, switch back to the normal `softmaxCrossEntropy`.\n",
    "\n",
    "@differentiable(vjp: _vjpSoftmaxCrossEntropy)\n",
    "func softmaxCrossEntropy1<Scalar: TensorFlowFloatingPoint>(\n",
    "    _ features: Tensor<Scalar>, _ labels: Tensor<Scalar>\n",
    ") -> Tensor<Scalar> {\n",
    "    return Raw.softmaxCrossEntropyWithLogits(features: features, labels: labels).loss.mean()\n",
    "}\n",
    "\n",
    "@usableFromInline\n",
    "func _vjpSoftmaxCrossEntropy<Scalar: TensorFlowFloatingPoint>(\n",
    "    features: Tensor<Scalar>, labels: Tensor<Scalar>\n",
    ") -> (Tensor<Scalar>, (Tensor<Scalar>) -> (Tensor<Scalar>, Tensor<Scalar>)) {\n",
    "    let (loss, grad) = Raw.softmaxCrossEntropyWithLogits(features: features, labels: labels)\n",
    "    let batchSize = Tensor<Scalar>(features.shapeTensor[0])\n",
    "    return (loss.mean(), { v in ((v / batchSize) * grad, Tensor<Scalar>(0)) })\n",
    "}"
   ]
  },
  {
   "cell_type": "code",
   "execution_count": null,
   "metadata": {},
   "outputs": [],
   "source": [
    "let learner = Learner(data: data, lossFunction: softmaxCrossEntropy1, optimizer: opt, initializingWith: modelInit)"
   ]
  },
  {
   "cell_type": "code",
   "execution_count": null,
   "metadata": {},
   "outputs": [],
   "source": [
    "learner.fit(2)"
   ]
  },
  {
   "cell_type": "markdown",
   "metadata": {},
   "source": [
    "## Let's add Callbacks!"
   ]
  },
  {
   "cell_type": "markdown",
   "metadata": {},
   "source": [
    "### Train/eval"
   ]
  },
  {
   "cell_type": "markdown",
   "metadata": {},
   "source": [
    "Callback classes are defined as extensions of the Learner."
   ]
  },
  {
   "cell_type": "code",
   "execution_count": null,
   "metadata": {},
   "outputs": [],
   "source": [
    "// export\n",
    "extension Learner {\n",
    "    public class TrainEvalDelegate: Delegate {\n",
    "        public override func trainingWillStart(learner: Learner) {\n",
    "            learner.pctEpochs = 0.0\n",
    "            learner.currentIter = 0\n",
    "        }\n",
    "\n",
    "        public override func epochWillStart(learner: Learner) {\n",
    "            learner.pctEpochs = Float(learner.currentEpoch)\n",
    "            learner.context = Context(learningPhase: .training)\n",
    "            learner.inTrain = true\n",
    "        }\n",
    "        \n",
    "        public override func batchDidFinish(learner: Learner) {\n",
    "            if learner.inTrain{\n",
    "                learner.pctEpochs   += 1.0 / Float(learner.iterCount)\n",
    "                learner.currentIter += 1\n",
    "            }\n",
    "        }\n",
    "        \n",
    "        public override func validationWillStart(learner: Learner) {\n",
    "            learner.context = Context(learningPhase: .inference)\n",
    "            learner.inTrain = false\n",
    "        }\n",
    "    }\n",
    "    \n",
    "    public func makeTrainEvalDelegate() -> TrainEvalDelegate { return TrainEvalDelegate() }\n",
    "}"
   ]
  },
  {
   "cell_type": "code",
   "execution_count": null,
   "metadata": {},
   "outputs": [],
   "source": [
    "let learner = Learner(data: data, lossFunction: softmaxCrossEntropy1, optimizer: opt, initializingWith: modelInit)"
   ]
  },
  {
   "cell_type": "code",
   "execution_count": null,
   "metadata": {},
   "outputs": [],
   "source": [
    "learner.delegates = [learner.makeTrainEvalDelegate()]"
   ]
  },
  {
   "cell_type": "code",
   "execution_count": null,
   "metadata": {},
   "outputs": [],
   "source": [
    "learner.fit(2)"
   ]
  },
  {
   "cell_type": "markdown",
   "metadata": {},
   "source": [
    "### AverageMetric"
   ]
  },
  {
   "cell_type": "code",
   "execution_count": null,
   "metadata": {},
   "outputs": [],
   "source": [
    "// export\n",
    "// TODO: make metrics more generic (probably for after the course)\n",
    "extension Learner {\n",
    "    public class AvgMetric: Delegate {\n",
    "        public let metrics: [(Tensor<Float>, Tensor<Int32>) -> Tensor<Float>]\n",
    "        var total: Int = 0\n",
    "        var partials: [Tensor<Float>] = []\n",
    "        \n",
    "        public init(metrics: [(Tensor<Float>, Tensor<Int32>) -> Tensor<Float>]){ self.metrics = metrics}\n",
    "        \n",
    "        public override func epochWillStart(learner: Learner) {\n",
    "            total = 0\n",
    "            partials = Array(repeating: Tensor(0), count: metrics.count + 1)\n",
    "        }\n",
    "        \n",
    "        public override func batchDidFinish(learner: Learner) {\n",
    "            if !learner.inTrain{\n",
    "                if let target = learner.currentTarget as? Tensor<Int32>{\n",
    "                    let bs = target.shape[0]\n",
    "                    total += Int(bs)\n",
    "                    partials[0] += Float(bs) * learner.currentLoss\n",
    "                    for i in 1...metrics.count{\n",
    "                        partials[i] += Float(bs) * metrics[i-1]((learner.currentOutput as! Tensor<Float>), target)\n",
    "                    }\n",
    "                }\n",
    "                \n",
    "                // TODO: When TF-421 is fixed, remove this.\n",
    "                if let target = learner.currentTarget as? Tensor<Float>{\n",
    "                    let bs = target.shape[0]\n",
    "                    total += Int(bs)\n",
    "                    partials[0] += Float(bs) * learner.currentLoss\n",
    "                    let idxTarg = target.argmax(squeezingAxis: 1)\n",
    "                    for i in 1...metrics.count{\n",
    "                        partials[i] += Float(bs) * metrics[i-1]((learner.currentOutput as! Tensor<Float>), idxTarg)\n",
    "                    }\n",
    "                }\n",
    "            }\n",
    "        }\n",
    "        \n",
    "        public override func epochDidFinish(learner: Learner) {\n",
    "            for i in 0...metrics.count {partials[i] = partials[i] / Float(total)}\n",
    "            print(\"Epoch \\(learner.currentEpoch): \\(partials)\")\n",
    "        }\n",
    "    }\n",
    "    \n",
    "    public func makeAvgMetric(metrics: [(Tensor<Float>, Tensor<Int32>) -> Tensor<Float>]) -> AvgMetric{\n",
    "        return AvgMetric(metrics: metrics)\n",
    "    }\n",
    "}"
   ]
  },
  {
   "cell_type": "code",
   "execution_count": null,
   "metadata": {},
   "outputs": [],
   "source": [
    "let learner = Learner(data: data, lossFunction: softmaxCrossEntropy1, optimizer: opt, initializingWith: modelInit)"
   ]
  },
  {
   "cell_type": "code",
   "execution_count": null,
   "metadata": {},
   "outputs": [],
   "source": [
    "learner.delegates = [learner.makeTrainEvalDelegate(), learner.makeAvgMetric(metrics: [accuracy])]"
   ]
  },
  {
   "cell_type": "code",
   "execution_count": null,
   "metadata": {},
   "outputs": [
    {
     "name": "stdout",
     "output_type": "stream",
     "text": [
      "Epoch 0: [0.44374228, 0.8871]\n",
      "Epoch 1: [0.3427916, 0.9064]\n"
     ]
    }
   ],
   "source": [
    "learner.fit(2)"
   ]
  },
  {
   "cell_type": "markdown",
   "metadata": {},
   "source": [
    "## Export"
   ]
  },
  {
   "cell_type": "code",
   "execution_count": null,
   "metadata": {},
   "outputs": [],
   "source": [
    "notebookToScript(fname: (Path.cwd / \"04_callbacks.ipynb\").string)"
   ]
  },
  {
   "cell_type": "code",
   "execution_count": null,
   "metadata": {},
   "outputs": [],
   "source": []
  }
 ],
 "metadata": {
  "kernelspec": {
   "display_name": "Swift",
   "language": "swift",
   "name": "swift"
  }
 },
 "nbformat": 4,
 "nbformat_minor": 1
}

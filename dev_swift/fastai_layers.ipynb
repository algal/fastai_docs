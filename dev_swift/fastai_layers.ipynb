{
 "cells": [
  {
   "cell_type": "code",
   "execution_count": 1,
   "metadata": {},
   "outputs": [
    {
     "name": "stdout",
     "output_type": "stream",
     "text": [
      "Installing packages:\n",
      "\t.package(path: \"/home/marcrasi/fastai_docs/dev_swift/FastaiNotebook_04_callbacks\")\n",
      "\t\tFastaiNotebook_04_callbacks\n",
      "With SwiftPM flags: []\n",
      "Working in: /tmp/tmp79vlv47o\n",
      "Fetching https://github.com/mxcl/Path.swift\n",
      "Fetching https://github.com/JustHTTP/Just\n",
      "Completed resolution in 2.54s\n",
      "Cloning https://github.com/mxcl/Path.swift\n",
      "Resolving https://github.com/mxcl/Path.swift at 0.16.2\n",
      "Cloning https://github.com/JustHTTP/Just\n",
      "Resolving https://github.com/JustHTTP/Just at 0.7.1\n",
      "Compile Swift Module 'Just' (1 sources)\n",
      "Compile Swift Module 'Path' (9 sources)\n",
      "Compile Swift Module 'FastaiNotebook_04_callbacks' (6 sources)\n",
      "Compile Swift Module 'jupyterInstalledPackages' (1 sources)\n",
      "Linking ./.build/x86_64-unknown-linux/debug/libjupyterInstalledPackages.so\n",
      "Initializing Swift...\n",
      "Loading library...\n",
      "Installation complete!\n"
     ]
    }
   ],
   "source": [
    "%install '.package(path: \"$cwd/FastaiNotebook_04_callbacks\")' FastaiNotebook_04_callbacks"
   ]
  },
  {
   "cell_type": "code",
   "execution_count": 2,
   "metadata": {},
   "outputs": [],
   "source": [
    "import TensorFlow\n",
    "import FastaiNotebook_04_callbacks\n",
    "import Path\n",
    "import TensorFlow\n",
    "\n",
    "class LayerDelegate<Output> {\n",
    "    func didProduceActivation(_ activation: Output, in context: Context) {}\n",
    "}\n",
    "\n",
    "protocol FALayer: Layer {\n",
    "    @differentiable\n",
    "    func forward(_ input: Input, in context: Context) -> Output\n",
    "    \n",
    "    var delegate: LayerDelegate<Output> { get set }\n",
    "}"
   ]
  },
  {
   "cell_type": "code",
   "execution_count": 5,
   "metadata": {},
   "outputs": [],
   "source": [
    "// We couldn't get this to work, so we're just manually pasting this \"applied\" implementation into\n",
    "// all FALayers for now.\n",
    "// TODO: Get this to work.\n",
    "\n",
    "// extension FALayer {\n",
    "//     @differentiable\n",
    "//     public func applied(to input: Input, in context: Context) -> Output {\n",
    "//         let activation = forward(input, in: context)\n",
    "//         delegate.didProduceActivation(activation, in: context)\n",
    "//         return activation\n",
    "//     }\n",
    "// }"
   ]
  },
  {
   "cell_type": "code",
   "execution_count": 6,
   "metadata": {},
   "outputs": [],
   "source": [
    "/// A densely-connected neural network layer.\n",
    "///\n",
    "/// `Dense` implements the operation `activation(matmul(input, weight) + bias)`, where `weight` is\n",
    "/// a weight matrix, `bias` is a bias vector, and `activation` is an element-wise activation\n",
    "/// function.\n",
    "@_fixed_layout\n",
    "public struct FADense<Scalar: TensorFlowFloatingPoint>: FALayer {    \n",
    "    /// The weight matrix.\n",
    "    public var weight: Tensor<Scalar>\n",
    "    /// The bias vector.\n",
    "    public var bias: Tensor<Scalar>\n",
    "    public typealias Activation = @differentiable (Tensor<Scalar>) -> Tensor<Scalar>\n",
    "    /// The element-wise activation function.\n",
    "    @noDerivative public let activation: Activation\n",
    "    \n",
    "    @noDerivative public var delegate: LayerDelegate<Tensor<Scalar>> = LayerDelegate()\n",
    "\n",
    "    public init(\n",
    "        weight: Tensor<Scalar>,\n",
    "        bias: Tensor<Scalar>,\n",
    "        activation: @escaping Activation\n",
    "    ) {\n",
    "        self.weight = weight\n",
    "        self.bias = bias\n",
    "        self.activation = activation\n",
    "    }\n",
    "\n",
    "    /// Returns the output obtained from applying the layer to the given input.\n",
    "    ///\n",
    "    /// - Parameters:\n",
    "    ///   - input: The input to the layer.\n",
    "    ///   - context: The contextual information for the layer application, e.g. the current learning\n",
    "    ///     phase.\n",
    "    /// - Returns: The output.\n",
    "    @differentiable\n",
    "    public func forward(_ input: Tensor<Scalar>, in _: Context) -> Tensor<Scalar> {\n",
    "        return activation(matmul(input, weight) + bias)\n",
    "    }\n",
    "    \n",
    "    @differentiable\n",
    "    public func applied(to input: Tensor<Scalar>, in context: Context) -> Tensor<Scalar> {\n",
    "        let activation = forward(input, in: context)\n",
    "        delegate.didProduceActivation(activation, in: context)\n",
    "        return activation\n",
    "    }\n",
    "}"
   ]
  },
  {
   "cell_type": "code",
   "execution_count": 5,
   "metadata": {},
   "outputs": [],
   "source": [
    "public extension FADense {\n",
    "    /// Creates a `Dense` layer with the specified input size, output size, and element-wise\n",
    "    /// activation function. The weight matrix is created with shape `[inputSize, outputSize]` and\n",
    "    /// is initialized using Glorot uniform initialization with the specified seed. The bias vector\n",
    "    /// is created with shape `[outputSize]` and is initialized with zeros.\n",
    "    ///\n",
    "    /// - Parameters:\n",
    "    ///   - inputSize: The dimensionality of the input space.\n",
    "    ///   - outputSize: The dimensionality of the output space.\n",
    "    ///   - activation: The activation function to use. The default value is `identity(_:)`.\n",
    "    ///   - seed: The random seed for initialization. The default value is random.\n",
    "    init(\n",
    "        inputSize: Int,\n",
    "        outputSize: Int,\n",
    "        activation: @escaping Activation = identity,\n",
    "        seed: (Int64, Int64) = (Int64.random(in: Int64.min..<Int64.max),\n",
    "                                Int64.random(in: Int64.min..<Int64.max))\n",
    "    ) {\n",
    "        self.init(weight: Tensor(glorotUniform: [Int32(inputSize), Int32(outputSize)],\n",
    "                                 seed: seed),\n",
    "                  bias: Tensor(zeros: [Int32(outputSize)]),\n",
    "                  activation: activation)\n",
    "    }\n",
    "}"
   ]
  },
  {
   "cell_type": "code",
   "execution_count": 10,
   "metadata": {},
   "outputs": [],
   "source": [
    "let data = mnistDataBunch(flat: true)\n",
    "let (n,m) = (60000,784)\n",
    "let c = 10\n",
    "let nHid = 50"
   ]
  },
  {
   "cell_type": "code",
   "execution_count": 7,
   "metadata": {},
   "outputs": [],
   "source": [
    "public struct MyModel: FALayer {\n",
    "    public var layer1: FADense<Float>\n",
    "    public var layer2: FADense<Float>\n",
    "    \n",
    "    @noDerivative public var delegate: LayerDelegate<Tensor<Float>> = LayerDelegate()\n",
    "    \n",
    "    public init(nIn: Int, nHid: Int, nOut: Int){\n",
    "        layer1 = FADense(inputSize: nIn, outputSize: nHid, activation: relu)\n",
    "        layer2 = FADense(inputSize: nHid, outputSize: nOut)\n",
    "    }\n",
    "    \n",
    "    @differentiable\n",
    "    public func forward(_ input: Tensor<Float>, in context: Context) -> Tensor<Float> {\n",
    "        return input.sequenced(in: context, through: layer1, layer2)\n",
    "    }\n",
    "\n",
    "    @differentiable\n",
    "    public func applied(to input: Tensor<Float>, in context: Context) -> Tensor<Float> {\n",
    "        let activation = forward(input, in: context)\n",
    "        delegate.didProduceActivation(activation, in: context)\n",
    "        return activation\n",
    "    }\n",
    "}"
   ]
  },
  {
   "cell_type": "code",
   "execution_count": 11,
   "metadata": {},
   "outputs": [],
   "source": [
    "var opt = SGD<MyModel, Float>(learningRate: 1e-2)\n",
    "func modelInit() -> MyModel {return MyModel(nIn: m, nHid: nHid, nOut: c)}\n",
    "\n",
    "// TODO: When TF-421 is fixed, switch back to the normal `softmaxCrossEntropy`.\n",
    "\n",
    "@differentiable(vjp: _vjpSoftmaxCrossEntropy)\n",
    "func softmaxCrossEntropy1<Scalar: TensorFlowFloatingPoint>(\n",
    "    _ features: Tensor<Scalar>, _ labels: Tensor<Scalar>\n",
    ") -> Tensor<Scalar> {\n",
    "    return Raw.softmaxCrossEntropyWithLogits(features: features, labels: labels).loss.mean()\n",
    "}\n",
    "\n",
    "@usableFromInline\n",
    "func _vjpSoftmaxCrossEntropy<Scalar: TensorFlowFloatingPoint>(\n",
    "    features: Tensor<Scalar>, labels: Tensor<Scalar>\n",
    ") -> (Tensor<Scalar>, (Tensor<Scalar>) -> (Tensor<Scalar>, Tensor<Scalar>)) {\n",
    "    let (loss, grad) = Raw.softmaxCrossEntropyWithLogits(features: features, labels: labels)\n",
    "    let batchSize = Tensor<Scalar>(features.shapeTensor[0])\n",
    "    return (loss.mean(), { v in ((v / batchSize) * grad, Tensor<Scalar>(0)) })\n",
    "}\n",
    "\n",
    "let learner = Learner(data: data, lossFunction: softmaxCrossEntropy1, optimizer: opt, initializingWith: modelInit)\n",
    "learner.delegates = [learner.makeTrainEvalDelegate(), learner.makeAvgMetric(metrics: [accuracy])]"
   ]
  },
  {
   "cell_type": "code",
   "execution_count": 16,
   "metadata": {},
   "outputs": [],
   "source": [
    "class ActivationStatistics: LayerDelegate<Tensor<Float>> {\n",
    "    var activationMeans: [Float] = []\n",
    "    var activationStds: [Float] = []\n",
    "    override func didProduceActivation(_ activation: Tensor<Float>, in context: Context) {\n",
    "        guard context.learningPhase == .training else { return }\n",
    "        activationMeans.append(activation.mean().scalar!)\n",
    "        activationStds.append(activation.standardDeviation().reshaped(to: []).scalar!)\n",
    "    }\n",
    "}"
   ]
  },
  {
   "cell_type": "code",
   "execution_count": 17,
   "metadata": {},
   "outputs": [],
   "source": [
    "learner.model.layer1.delegate = ActivationStatistics()\n",
    "learner.model.layer2.delegate = ActivationStatistics()"
   ]
  },
  {
   "cell_type": "code",
   "execution_count": 18,
   "metadata": {},
   "outputs": [
    {
     "name": "stdout",
     "output_type": "stream",
     "text": [
      "Epoch 0: [0.3150103, 0.9144]\n",
      "Epoch 1: [0.29216594, 0.92]\n"
     ]
    }
   ],
   "source": [
    "learner.fit(2)"
   ]
  },
  {
   "cell_type": "code",
   "execution_count": 20,
   "metadata": {},
   "outputs": [],
   "source": [
    "%include \"EnableIPythonDisplay.swift\"\n",
    "IPythonDisplay.shell.enable_matplotlib(\"inline\")\n",
    "let plt = Python.import(\"matplotlib.pyplot\")"
   ]
  },
  {
   "cell_type": "code",
   "execution_count": 23,
   "metadata": {},
   "outputs": [
    {
     "data": {
      "image/png": "[encoded data removed]",
      "text/plain": [
       "<matplotlib.figure.Figure at 0x7fbfef2adda0>"
      ]
     },
     "metadata": {
      "needs_background": "light"
     },
     "output_type": "display_data"
    },
    {
     "data": {
      "text/plain": [
       "None\n"
      ]
     },
     "execution_count": 23,
     "metadata": {},
     "output_type": "execute_result"
    }
   ],
   "source": [
    "plt.plot((learner.model.layer1.delegate as! ActivationStatistics).activationMeans)\n",
    "plt.plot((learner.model.layer2.delegate as! ActivationStatistics).activationMeans)\n",
    "plt.show()"
   ]
  },
  {
   "cell_type": "code",
   "execution_count": null,
   "metadata": {},
   "outputs": [],
   "source": []
  }
 ],
 "metadata": {
  "kernelspec": {
   "display_name": "Swift",
   "language": "swift",
   "name": "swift"
  },
  "language_info": {
   "file_extension": ".swift",
   "mimetype": "text/x-swift",
   "name": "swift",
   "version": ""
  }
 },
 "nbformat": 4,
 "nbformat_minor": 2
}

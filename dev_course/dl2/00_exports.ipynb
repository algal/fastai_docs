{
 "cells": [
  {
   "cell_type": "code",
   "execution_count": 2,
   "metadata": {},
   "outputs": [],
   "source": [
    "#export\n",
    "TEST = 'test'"
   ]
  },
  {
   "cell_type": "markdown",
   "metadata": {},
   "source": [
    "#### How to use of module `fire`\n",
    "\n",
    "Trying to run the course notebook on 2019-03-27 fails because the script cannot import the module `fire`.\n",
    "\n",
    "Let's figure that and out and fix it.\n",
    "\n",
    "Q: Is the module `fire` available to the notebook code (i.e., the Jupyter kernel)?"
   ]
  },
  {
   "cell_type": "code",
   "execution_count": 1,
   "metadata": {},
   "outputs": [],
   "source": [
    "import fire"
   ]
  },
  {
   "cell_type": "markdown",
   "metadata": {},
   "source": [
    "Answer: No\n",
    "\n",
    "What environment is the notebook code running in? A conda env?\n",
    "\n",
    "The wisdom on these issues: https://jakevdp.github.io/blog/2017/12/05/installing-python-packages-from-jupyter/"
   ]
  },
  {
   "cell_type": "code",
   "execution_count": 3,
   "metadata": {},
   "outputs": [
    {
     "name": "stdout",
     "output_type": "stream",
     "text": [
      "\r\n",
      "     active environment : base\r\n",
      "    active env location : /opt/anaconda3\r\n",
      "            shell level : 1\r\n",
      "       user config file : /home/jupyter/.condarc\r\n",
      " populated config files : \r\n",
      "          conda version : 4.6.8\r\n",
      "    conda-build version : 3.17.6\r\n",
      "         python version : 3.7.1.final.0\r\n",
      "       base environment : /opt/anaconda3  (writable)\r\n",
      "           channel URLs : https://repo.anaconda.com/pkgs/main/linux-64\r\n",
      "                          https://repo.anaconda.com/pkgs/main/noarch\r\n",
      "                          https://repo.anaconda.com/pkgs/free/linux-64\r\n",
      "                          https://repo.anaconda.com/pkgs/free/noarch\r\n",
      "                          https://repo.anaconda.com/pkgs/r/linux-64\r\n",
      "                          https://repo.anaconda.com/pkgs/r/noarch\r\n",
      "          package cache : /opt/anaconda3/pkgs\r\n",
      "                          /home/jupyter/.conda/pkgs\r\n",
      "       envs directories : /opt/anaconda3/envs\r\n",
      "                          /home/jupyter/.conda/envs\r\n",
      "               platform : linux-64\r\n",
      "             user-agent : conda/4.6.8 requests/2.21.0 CPython/3.7.1 Linux/4.9.0-8-amd64 debian/9.8 glibc/2.24\r\n",
      "                UID:GID : 1000:1001\r\n",
      "             netrc file : None\r\n",
      "           offline mode : False\r\n",
      "\r\n"
     ]
    }
   ],
   "source": [
    "!conda info"
   ]
  },
  {
   "cell_type": "markdown",
   "metadata": {},
   "source": [
    "So the kernel's shell sees a conda base env."
   ]
  },
  {
   "cell_type": "code",
   "execution_count": 5,
   "metadata": {},
   "outputs": [
    {
     "data": {
      "text/plain": [
       "'/opt/anaconda3'"
      ]
     },
     "execution_count": 5,
     "metadata": {},
     "output_type": "execute_result"
    }
   ],
   "source": [
    "import sys\n",
    "sys.prefix"
   ]
  },
  {
   "cell_type": "markdown",
   "metadata": {},
   "source": [
    "So it seems like the kernel code is running in the same conda base environment which we get when we don't specify a specific env.\n",
    "\n",
    "Let us try installing `fire` into this env to be able to run this script"
   ]
  },
  {
   "cell_type": "code",
   "execution_count": 7,
   "metadata": {
    "scrolled": true
   },
   "outputs": [
    {
     "name": "stdout",
     "output_type": "stream",
     "text": [
      "Collecting package metadata: done\n",
      "Solving environment: done\n",
      "\n",
      "## Package Plan ##\n",
      "\n",
      "  environment location: /opt/anaconda3\n",
      "\n",
      "  added / updated specs:\n",
      "    - fire\n",
      "\n",
      "\n",
      "The following packages will be downloaded:\n",
      "\n",
      "    package                    |            build\n",
      "    ---------------------------|-----------------\n",
      "    ca-certificates-2019.3.9   |       hecc5488_0         146 KB  conda-forge\n",
      "    certifi-2019.3.9           |           py37_0         149 KB  conda-forge\n",
      "    conda-4.6.8                |           py37_0         872 KB  conda-forge\n",
      "    fire-0.1.3                 |             py_1          32 KB  conda-forge\n",
      "    openssl-1.1.1b             |       h14c3975_1         4.0 MB  conda-forge\n",
      "    ------------------------------------------------------------\n",
      "                                           Total:         5.1 MB\n",
      "\n",
      "The following NEW packages will be INSTALLED:\n",
      "\n",
      "  fire               conda-forge/noarch::fire-0.1.3-py_1\n",
      "\n",
      "The following packages will be UPDATED:\n",
      "\n",
      "  ca-certificates    pkgs/main::ca-certificates-2019.1.23-0 --> conda-forge::ca-certificates-2019.3.9-hecc5488_0\n",
      "\n",
      "The following packages will be SUPERSEDED by a higher-priority channel:\n",
      "\n",
      "  certifi                                         pkgs/main --> conda-forge\n",
      "  conda                                           pkgs/main --> conda-forge\n",
      "  openssl              pkgs/main::openssl-1.1.1b-h7b6447c_1 --> conda-forge::openssl-1.1.1b-h14c3975_1\n",
      "\n",
      "\n",
      "\n",
      "Downloading and Extracting Packages\n",
      "fire-0.1.3           | 32 KB     | ##################################### | 100% \n",
      "certifi-2019.3.9     | 149 KB    |                                       |   0% WARNING conda.gateways.disk.delete:unlink_or_rename_to_trash(108): Could not remove or rename /opt/anaconda3/pkgs/certifi-2019.3.9-py37_0.c~/info/test/run_test.py.  Please remove this file manually (you may need to reboot to free file handles)\n",
      "WARNING conda.gateways.disk.delete:unlink_or_rename_to_trash(108): Could not remove or rename /opt/anaconda3/pkgs/certifi-2019.3.9-py37_0.c~/info/recipe/meta.yaml.template.  Please remove this file manually (you may need to reboot to free file handles)\n",
      "WARNING conda.gateways.disk.delete:unlink_or_rename_to_trash(108): Could not remove or rename /opt/anaconda3/pkgs/certifi-2019.3.9-py37_0.c~/info/recipe/recipe_log.txt.  Please remove this file manually (you may need to reboot to free file handles)\n",
      "WARNING conda.gateways.disk.delete:unlink_or_rename_to_trash(108): Could not remove or rename /opt/anaconda3/pkgs/certifi-2019.3.9-py37_0.c~/info/recipe/meta.yaml.  Please remove this file manually (you may need to reboot to free file handles)\n",
      "WARNING conda.gateways.disk.delete:unlink_or_rename_to_trash(108): Could not remove or rename /opt/anaconda3/pkgs/certifi-2019.3.9-py37_0.c~/info/recipe/conda_build_config.yaml.  Please remove this file manually (you may need to reboot to free file handles)\n",
      "WARNING conda.gateways.disk.delete:unlink_or_rename_to_trash(108): Could not remove or rename /opt/anaconda3/pkgs/certifi-2019.3.9-py37_0.c~/info/files.  Please remove this file manually (you may need to reboot to free file handles)\n",
      "WARNING conda.gateways.disk.delete:unlink_or_rename_to_trash(108): Could not remove or rename /opt/anaconda3/pkgs/certifi-2019.3.9-py37_0.c~/info/git.  Please remove this file manually (you may need to reboot to free file handles)\n",
      "WARNING conda.gateways.disk.delete:unlink_or_rename_to_trash(108): Could not remove or rename /opt/anaconda3/pkgs/certifi-2019.3.9-py37_0.c~/info/hash_input.json.  Please remove this file manually (you may need to reboot to free file handles)\n",
      "WARNING conda.gateways.disk.delete:unlink_or_rename_to_trash(108): Could not remove or rename /opt/anaconda3/pkgs/certifi-2019.3.9-py37_0.c~/info/repodata_record.json.  Please remove this file manually (you may need to reboot to free file handles)\n",
      "WARNING conda.gateways.disk.delete:unlink_or_rename_to_trash(108): Could not remove or rename /opt/anaconda3/pkgs/certifi-2019.3.9-py37_0.c~/info/LICENSE.txt.  Please remove this file manually (you may need to reboot to free file handles)\n",
      "WARNING conda.gateways.disk.delete:unlink_or_rename_to_trash(108): Could not remove or rename /opt/anaconda3/pkgs/certifi-2019.3.9-py37_0.c~/info/about.json.  Please remove this file manually (you may need to reboot to free file handles)\n",
      "WARNING conda.gateways.disk.delete:unlink_or_rename_to_trash(108): Could not remove or rename /opt/anaconda3/pkgs/certifi-2019.3.9-py37_0.c~/info/paths.json.  Please remove this file manually (you may need to reboot to free file handles)\n",
      "WARNING conda.gateways.disk.delete:unlink_or_rename_to_trash(108): Could not remove or rename /opt/anaconda3/pkgs/certifi-2019.3.9-py37_0.c~/info/index.json.  Please remove this file manually (you may need to reboot to free file handles)\n",
      "WARNING conda.gateways.disk.delete:unlink_or_rename_to_trash(108): Could not remove or rename /opt/anaconda3/pkgs/certifi-2019.3.9-py37_0.c~/lib/python3.7/site-packages/certifi/__pycache__/core.cpython-37.pyc.  Please remove this file manually (you may need to reboot to free file handles)\n",
      "WARNING conda.gateways.disk.delete:unlink_or_rename_to_trash(108): Could not remove or rename /opt/anaconda3/pkgs/certifi-2019.3.9-py37_0.c~/lib/python3.7/site-packages/certifi/__pycache__/__init__.cpython-37.pyc.  Please remove this file manually (you may need to reboot to free file handles)\n",
      "WARNING conda.gateways.disk.delete:unlink_or_rename_to_trash(108): Could not remove or rename /opt/anaconda3/pkgs/certifi-2019.3.9-py37_0.c~/lib/python3.7/site-packages/certifi/__pycache__/__main__.cpython-37.pyc.  Please remove this file manually (you may need to reboot to free file handles)\n",
      "WARNING conda.gateways.disk.delete:unlink_or_rename_to_trash(108): Could not remove or rename /opt/anaconda3/pkgs/certifi-2019.3.9-py37_0.c~/lib/python3.7/site-packages/certifi/cacert.pem.  Please remove this file manually (you may need to reboot to free file handles)\n",
      "WARNING conda.gateways.disk.delete:unlink_or_rename_to_trash(108): Could not remove or rename /opt/anaconda3/pkgs/certifi-2019.3.9-py37_0.c~/lib/python3.7/site-packages/certifi/__init__.py.  Please remove this file manually (you may need to reboot to free file handles)\n",
      "WARNING conda.gateways.disk.delete:unlink_or_rename_to_trash(108): Could not remove or rename /opt/anaconda3/pkgs/certifi-2019.3.9-py37_0.c~/lib/python3.7/site-packages/certifi/__main__.py.  Please remove this file manually (you may need to reboot to free file handles)\n",
      "WARNING conda.gateways.disk.delete:unlink_or_rename_to_trash(108): Could not remove or rename /opt/anaconda3/pkgs/certifi-2019.3.9-py37_0.c~/lib/python3.7/site-packages/certifi/core.py.  Please remove this file manually (you may need to reboot to free file handles)\n",
      "WARNING conda.gateways.disk.delete:unlink_or_rename_to_trash(108): Could not remove or rename /opt/anaconda3/pkgs/certifi-2019.3.9-py37_0.c~/lib/python3.7/site-packages/certifi-2019.03.09-py3.7.egg-info.  Please remove this file manually (you may need to reboot to free file handles)\n",
      "certifi-2019.3.9     | 149 KB    | ##################################### | 100% \n",
      "conda-4.6.8          | 872 KB    | ##################################### | 100% \n",
      "openssl-1.1.1b       | 4.0 MB    | ##################################### | 100% \n",
      "ca-certificates-2019 | 146 KB    | ##################################### | 100% \n",
      "Preparing transaction: done\n",
      "Verifying transaction: done\n",
      "Executing transaction: done\n"
     ]
    }
   ],
   "source": [
    "!conda install --yes fire -c conda-forge"
   ]
  },
  {
   "cell_type": "markdown",
   "metadata": {},
   "source": [
    "Having installed `fire` from the `conda-forge` channel, let us now to try to import it:"
   ]
  },
  {
   "cell_type": "code",
   "execution_count": 8,
   "metadata": {},
   "outputs": [],
   "source": [
    "import fire"
   ]
  },
  {
   "cell_type": "markdown",
   "metadata": {},
   "source": [
    "Okay. now let's see if the script which needs fire works."
   ]
  },
  {
   "cell_type": "markdown",
   "metadata": {},
   "source": [
    "## Export"
   ]
  },
  {
   "cell_type": "code",
   "execution_count": 4,
   "metadata": {},
   "outputs": [
    {
     "name": "stdout",
     "output_type": "stream",
     "text": [
      "Converted 00_exports.ipynb to nb_00.py\r\n"
     ]
    }
   ],
   "source": [
    "!python notebook2script.py 00_exports.ipynb"
   ]
  },
  {
   "cell_type": "markdown",
   "metadata": {},
   "source": [
    "#### Q: But where is this exported file? We can see that it is placed in the `exp/` directory:"
   ]
  },
  {
   "cell_type": "code",
   "execution_count": 1,
   "metadata": {},
   "outputs": [
    {
     "name": "stdout",
     "output_type": "stream",
     "text": [
      "__init__.py  nb_01.py  nb_03.py  nb_05.py  nb_07.py  nb_09.py\r\n",
      "nb_00.py     nb_02.py  nb_04.py  nb_06.py  nb_08.py\r\n"
     ]
    }
   ],
   "source": [
    "!ls exp/"
   ]
  },
  {
   "cell_type": "code",
   "execution_count": 3,
   "metadata": {},
   "outputs": [
    {
     "name": "stdout",
     "output_type": "stream",
     "text": [
      "\r\n",
      "#################################################\r\n",
      "### THIS FILE WAS AUTOGENERATED! DO NOT EDIT! ###\r\n",
      "#################################################\r\n",
      "# file to edit: dev_nb/00_exports.ipynb\r\n",
      "\r\n",
      "TEST = 'test'"
     ]
    }
   ],
   "source": [
    "!cat exp/nb_00.py"
   ]
  },
  {
   "cell_type": "markdown",
   "metadata": {},
   "source": [
    "### How it works:"
   ]
  },
  {
   "cell_type": "code",
   "execution_count": null,
   "metadata": {},
   "outputs": [],
   "source": [
    "import json\n",
    "d = json.load(open('00_exports.ipynb','r'))['cells']"
   ]
  },
  {
   "cell_type": "code",
   "execution_count": null,
   "metadata": {},
   "outputs": [],
   "source": [
    "d[0]"
   ]
  },
  {
   "cell_type": "code",
   "execution_count": null,
   "metadata": {},
   "outputs": [],
   "source": []
  }
 ],
 "metadata": {
  "kernelspec": {
   "display_name": "Python 3",
   "language": "python",
   "name": "python3"
  },
  "language_info": {
   "codemirror_mode": {
    "name": "ipython",
    "version": 3
   },
   "file_extension": ".py",
   "mimetype": "text/x-python",
   "name": "python",
   "nbconvert_exporter": "python",
   "pygments_lexer": "ipython3",
   "version": "3.7.1"
  }
 },
 "nbformat": 4,
 "nbformat_minor": 2
}
